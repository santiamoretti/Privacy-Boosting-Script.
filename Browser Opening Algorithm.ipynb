{
 "cells": [
  {
   "cell_type": "markdown",
   "id": "91e4cb1e",
   "metadata": {},
   "source": [
    "# Browser Opening Algorithm"
   ]
  },
  {
   "cell_type": "markdown",
   "id": "cdd0f456",
   "metadata": {},
   "source": [
    "This code creates a script that uses Selenium and the Chrome webdriver to open a Google Chrome tab. It also uses the 'fake_useragent' library to randomly generate a user agent, which is then passed as an option to the Chrome webdriver. The script also includes several options passed to the webdriver to enhance privacy such as disabling dev shm usage, disabling blink features, incognito mode and disabling the infobars. Additionally, the script attempts to remove the webdriver property from the navigator object to prevent detection of the automation. The script calls the main() function which creates an instance of the WebDriver class and uses its get() method to open the website. Before running this script, you will need to have the Chrome webdriver installed on your machine. You can download the appropriate version of the Chrome webdriver for your system from the Selenium website (http://chromedriver.chromium.org/home). Once you have downloaded the webdriver, you will need to add it to your system's PATH. On Linux and macOS systems, the recommended location to put the webdriver is in /usr/local/bin. Once you have placed the webdriver in this location, you should be able to run the script without any issues. Keep in mind that the version of the Chrome browser and the Chrome webdriver must match in order for the script to work."
   ]
  },
  {
   "cell_type": "markdown",
   "id": "a7d3981f",
   "metadata": {},
   "source": [
    "# Packages: "
   ]
  },
  {
   "cell_type": "raw",
   "id": "040d4cbd",
   "metadata": {},
   "source": [
    "!pip install fake_useragent\n",
    "!pip install selenium\n",
    "!pip install bs4"
   ]
  },
  {
   "cell_type": "markdown",
   "id": "c1094f6b",
   "metadata": {},
   "source": [
    "# Code: "
   ]
  },
  {
   "cell_type": "code",
   "execution_count": 10,
   "id": "d686b6bd",
   "metadata": {},
   "outputs": [
    {
     "name": "stdout",
     "output_type": "stream",
     "text": [
      "All modules are loaded\n",
      "\n",
      "        UserAgent: Mozilla/5.0 (Windows; U; Windows NT 5.1; en-US; rv:1.9.0.16) Gecko/2009120208 Firefox/3.0.16 FBSMTWB\n",
      "        \n"
     ]
    }
   ],
   "source": [
    "import sys\n",
    "import os\n",
    "\n",
    "from fake_useragent import UserAgent\n",
    "from selenium import webdriver\n",
    "from selenium.webdriver.chrome.options import Options\n",
    "from selenium.webdriver.common.action_chains import ActionChains\n",
    "from selenium.webdriver.support import expected_conditions as EC\n",
    "from selenium.webdriver.support.ui import WebDriverWait\n",
    "from selenium.common.exceptions import TimeoutException\n",
    "\n",
    "print('All modules are loaded')\n",
    "\n",
    "\n",
    "class Spoofer(object):\n",
    "    def __init__(self):\n",
    "        self.userAgent = UserAgent().random\n",
    "\n",
    "    def get(self):\n",
    "        return self.userAgent\n",
    "\n",
    "class DriverOptions(object):\n",
    "    def __init__(self):\n",
    "        self.options = Options()\n",
    "        self.options.add_argument('--no-sandbox')\n",
    "        self.options.add_argument('--start-maximized')\n",
    "        self.options.add_argument('--start-fullscreen')\n",
    "        self.options.add_argument('--single-process')\n",
    "        self.options.add_argument('--disable-dev-shm-usage')\n",
    "        self.options.add_argument(\"--incognito\")\n",
    "        self.options.add_argument('--disable-blink-features=AutomationControlled')\n",
    "        self.options.add_argument('--disable-blink-features=AutomationControlled')\n",
    "        self.options.add_experimental_option('useAutomationExtension', False)\n",
    "        self.options.add_experimental_option(\"excludeSwitches\", [\"enable-automation\"])\n",
    "        self.options.add_argument(\"disable-infobars\")\n",
    "\n",
    "        self.helperSpoofer = Spoofer()\n",
    "        self.options.add_argument('user-agent={}'.format(self.helperSpoofer.userAgent))\n",
    "\n",
    "class WebDriver(DriverOptions):\n",
    "    def __init__(self):\n",
    "        DriverOptions.__init__(self)\n",
    "        self.driver_instance = self.get_driver()\n",
    "\n",
    "    def get_driver(self):\n",
    "        print(\"\"\"\n",
    "        UserAgent: {}\n",
    "        \"\"\".format(self.helperSpoofer.userAgent))\n",
    "\n",
    "        driver = webdriver.Chrome(options=self.options)\n",
    "        \n",
    "        driver.execute_script(\"Object.defineProperty(navigator, 'webdriver', {get: () => undefined})\")\n",
    "        driver.execute_cdp_cmd(\"Page.addScriptToEvaluateOnNewDocument\", {\n",
    "            \"source\":\n",
    "                \"const newProto = navigator.__proto__;\"\n",
    "                \"delete newProto.webdriver;\"\n",
    "                \"navigator.__proto__ = newProto;\"\n",
    "        })\n",
    "\n",
    "        return driver\n",
    "\n",
    "def main():\n",
    "    driver = WebDriver()\n",
    "    driver.driver_instance.get('https://www.whatismybrowser.com/')\n",
    "    # Do your stuff here\n",
    "    \n",
    "\n",
    "if __name__ == \"__main__\":\n",
    "    main()\n"
   ]
  },
  {
   "cell_type": "markdown",
   "id": "ce16c298",
   "metadata": {},
   "source": [
    "created by: Santiago Amoretti"
   ]
  }
 ],
 "metadata": {
  "kernelspec": {
   "display_name": "Python 3 (ipykernel)",
   "language": "python",
   "name": "python3"
  },
  "language_info": {
   "codemirror_mode": {
    "name": "ipython",
    "version": 3
   },
   "file_extension": ".py",
   "mimetype": "text/x-python",
   "name": "python",
   "nbconvert_exporter": "python",
   "pygments_lexer": "ipython3",
   "version": "3.9.7"
  }
 },
 "nbformat": 4,
 "nbformat_minor": 5
}
